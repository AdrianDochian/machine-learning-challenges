{
 "cells": [
  {
   "cell_type": "markdown",
   "id": "8bb9ff27",
   "metadata": {},
   "source": [
    "# Imports"
   ]
  },
  {
   "cell_type": "code",
   "execution_count": null,
   "id": "c463359b",
   "metadata": {},
   "outputs": [],
   "source": [
    "# General use libraries\n",
    "import os\n",
    "import random\n",
    "import math\n",
    "import typing\n",
    "\n",
    "# Data related libraries\n",
    "import numpy as np\n",
    "import pandas as pd\n",
    "from sktime.datasets import load_from_arff_to_dataframe\n",
    "from scipy.signal import argrelextrema\n",
    "\n",
    "# Plotting libraries\n",
    "import seaborn\n",
    "import matplotlib.pyplot as plt\n",
    "\n",
    "# Features handling libraries\n",
    "from sklearn.feature_selection import VarianceThreshold\n",
    "from sklearn.feature_selection import SelectPercentile, chi2\n",
    "\n",
    "# Parameters handling libraries\n",
    "from sklearn.model_selection import GridSearchCV\n",
    "\n",
    "# Classifiers\n",
    "from sklearn.ensemble import RandomForestClassifier\n",
    "from sklearn.svm import SVC\n",
    "from xgboost import XGBClassifier\n",
    "\n",
    "# Neural Networks\n",
    "import tensorflow as tf\n",
    "\n",
    "from sklearn.neural_network import MLPClassifier\n",
    "\n",
    "# Metrics\n",
    "from sklearn import metrics"
   ]
  },
  {
   "cell_type": "markdown",
   "id": "ad71526f",
   "metadata": {},
   "source": [
    "# Utility functions"
   ]
  },
  {
   "cell_type": "code",
   "execution_count": null,
   "id": "087bb70f",
   "metadata": {},
   "outputs": [],
   "source": [
    "def combine_and_translate_classes(train_x: pd.DataFrame, train_y: np.array, class_labels: dict, classes_category: str) -> pd.DataFrame:\n",
    "    y_dataframe = pd.DataFrame(data = train_y, columns=[classes_category])\n",
    "    combined_data_frame =  pd.merge(train_x, y_dataframe, left_index=True, right_index=True, )\n",
    "    for class_label_key in class_labels:\n",
    "        class_label_value = class_labels[class_label_key]\n",
    "        combined_data_frame.loc[combined_data_frame[classes_category] == class_label_key, classes_category] = class_label_value\n",
    "\n",
    "    return combined_data_frame\n",
    "\n",
    "def compute_grid_search_result(model_instance, parameters, X, y):\n",
    "    grid_search_instance = GridSearchCV(model_instance, parameters)\n",
    "    return grid_search_instance.fit(X, y)\n",
    "\n",
    "def compute_metrics(y_actual, y_predicted):\n",
    "    accuracy_score = metrics.accuracy_score(y_actual, y_predicted)\n",
    "    precision_score = metrics.precision_score(y_actual, y_predicted, average=None)\n",
    "    recall_score = metrics.recall_score(y_actual, y_predicted, average=None)\n",
    "    f1_score = metrics.f1_score(y_actual, y_predicted, average=None)\n",
    "    confusion_matrix = metrics.confusion_matrix(y_actual, y_predicted)\n",
    "    \n",
    "    return {\n",
    "        \"accuracy_score\": accuracy_score,\n",
    "        \"precision_score\": precision_score,\n",
    "        \"recall_score\": recall_score,\n",
    "        \"f1_score\": f1_score,\n",
    "        \"confusion_matrix\": confusion_matrix\n",
    "    }\n",
    "\n",
    "def add_new_key_value_to_dict(dict, key, value):\n",
    "    dict[key] = value\n",
    "    return dict\n",
    "\n",
    "def fit_predict_and_compute_metrics(model_definition, parameters, X_train, y_train, X_test, y_test):\n",
    "    model_instance = model_definition(**parameters)\n",
    "    model_instance.fit(X_train, y_train)\n",
    "   \n",
    "    y_predicted = model_instance.predict(X_test)\n",
    "    return add_new_key_value_to_dict(compute_metrics(y_test, y_predicted), \"parameters\", parameters)\n",
    "\n",
    "def fit_predict_and_compute_metrics_nn(model, train_x, train_y, test_x, test_y, batch_size, epochs, verbose=0):\n",
    "    model.fit(train_x, train_y, batch_size=batch_size, epochs=epochs, verbose=verbose)\n",
    "    prediction_distribution = model.predict(test_x)\n",
    "    y_predicted = np.argmax(prediction_distribution, axis=1)\n",
    "    return compute_metrics(test_y, y_predicted)"
   ]
  },
  {
   "cell_type": "markdown",
   "id": "0d7ead01",
   "metadata": {},
   "source": [
    "# Load data"
   ]
  },
  {
   "cell_type": "code",
   "execution_count": 75,
   "id": "5574d92e",
   "metadata": {},
   "outputs": [
    {
     "name": "stderr",
     "output_type": "stream",
     "text": [
      "/home/samanu/.local/lib/python3.8/site-packages/sktime/datasets/_data_io.py:1108: PerformanceWarning: DataFrame is highly fragmented.  This is usually the result of calling `frame.insert` many times, which has poor performance.  Consider joining all columns at once using pd.concat(axis=1) instead.  To get a de-fragmented frame, use `newframe = frame.copy()`\n",
      "  x_data[\"dim_\" + str(dim)] = instance_list[dim]\n"
     ]
    }
   ],
   "source": [
    "PEMS_SF_DATA_PATH = \"./PEMS-SF\"\n",
    "PEMS_SF_CLASSES_CATEGORY = \"Day of the week\"\n",
    "PEMS_SF_CLASS_VALUES_MAPPER = {\n",
    "    0 : \"Monday\",\n",
    "    1 : \"Tuesday\",\n",
    "    2 : \"Wednesday\",\n",
    "    3 : \"Thursday\",\n",
    "    4 : \"Friday\",\n",
    "    5 : \"Saturday\",\n",
    "    6 : \"Sunday\",\n",
    "}\n",
    "\n",
    "# Train data\n",
    "train_x_pems_sf, train_y_pems_sf = load_from_arff_to_dataframe(\n",
    "    os.path.join(PEMS_SF_DATA_PATH, \"PEMS-SF_TRAIN.arff\")\n",
    ")\n",
    "train_y_pems_sf = list(map(lambda x: int(float(x)) - 1, train_y_pems_sf))\n",
    "\n",
    "# Test data\n",
    "test_x_pems_sf, test_y_pems_sf = load_from_arff_to_dataframe(\n",
    "    os.path.join(PEMS_SF_DATA_PATH, \"PEMS-SF_TEST.arff\")\n",
    ")\n",
    "test_y_pems_sf = list(map(lambda x: int(float(x)) - 1, test_y_pems_sf))\n",
    "\n",
    "# Helpers for data visualization\n",
    "pems_sf_columns = train_x_pems_sf.columns\n",
    "pems_sf_train_translated = combine_and_translate_classes(\\\n",
    "    train_x_pems_sf, train_y_pems_sf, PEMS_SF_CLASS_VALUES_MAPPER, PEMS_SF_CLASSES_CATEGORY)\n",
    "\n",
    "pems_sf_results = {}"
   ]
  },
  {
   "cell_type": "code",
   "execution_count": 76,
   "id": "060f3731",
   "metadata": {},
   "outputs": [],
   "source": [
    "U_WAVE_GESTURE_DATA_PATH = \"./UWaveGestureLibrary\"\n",
    "U_WAVE_CLASSES_CATEGORY = \"Gesture\"\n",
    "U_WAVE_GESTURE_CLASS_VALUES_MAPPER = {\n",
    "    0 : \"Gesture 1\",\n",
    "    1 : \"Gesture 2\",\n",
    "    2 : \"Gesture 3\",\n",
    "    3 : \"Gesture 4\",\n",
    "    4 : \"Gesture 5\",\n",
    "    5 : \"Gesture 6\",\n",
    "    6 : \"Gesture 7\",\n",
    "    7 : \"Gesture 8\",\n",
    "}\n",
    "\n",
    "U_WAVE_GESTURE_CLASS_VALUES_TO_COLOR_MAPPER = {\n",
    "    \"Gesture 1\" : \"red\",\n",
    "    \"Gesture 2\" : \"green\",\n",
    "    \"Gesture 3\" : \"blue\",\n",
    "    \"Gesture 4\" : \"yellow\",\n",
    "    \"Gesture 5\" : \"brown\",\n",
    "    \"Gesture 6\" : \"black\",\n",
    "    \"Gesture 7\" : \"grey\",\n",
    "    \"Gesture 8\" : \"orange\",\n",
    "}\n",
    "\n",
    "# Train data\n",
    "train_x_u_wave_gesture, train_y_u_wave_gesture = load_from_arff_to_dataframe(\n",
    "    os.path.join(U_WAVE_GESTURE_DATA_PATH, \"UWaveGestureLibrary_TRAIN.arff\")\n",
    ")\n",
    "train_y_u_wave_gesture = list(map(lambda x: int(float(x)) - 1, train_y_u_wave_gesture))\n",
    "\n",
    "# Test data\n",
    "test_x_u_wave_gesture, test_y_u_wave_gesture = load_from_arff_to_dataframe(\n",
    "    os.path.join(U_WAVE_GESTURE_DATA_PATH, \"UWaveGestureLibrary_TEST.arff\")\n",
    ")\n",
    "test_y_u_wave_gesture = list(map(lambda x: int(float(x)) - 1, test_y_u_wave_gesture))\n",
    "\n",
    "# Helpers for data visualization\n",
    "u_wave_gesture_train_translated = combine_and_translate_classes(\\\n",
    "    train_x_u_wave_gesture, train_y_u_wave_gesture, U_WAVE_GESTURE_CLASS_VALUES_MAPPER, U_WAVE_CLASSES_CATEGORY)\n",
    "\n",
    "u_wave_gesture_results = {}"
   ]
  },
  {
   "cell_type": "code",
   "execution_count": null,
   "id": "b14b1656",
   "metadata": {},
   "outputs": [],
   "source": [
    "def get_np_array_from_data_frame(data_frame):\n",
    "    return np.array(list(map(lambda row: list(map(lambda item: list(item), row)), np.array(data_frame))))"
   ]
  },
  {
   "cell_type": "markdown",
   "id": "c869f356",
   "metadata": {},
   "source": [
    "# #1 Exploratory Data Analysis"
   ]
  },
  {
   "cell_type": "markdown",
   "id": "767ce7c7",
   "metadata": {},
   "source": [
    "### #1.1 Class Equilibrium"
   ]
  },
  {
   "cell_type": "code",
   "execution_count": null,
   "id": "294726fa",
   "metadata": {},
   "outputs": [],
   "source": [
    "def draw_class_equilibrium(y:np.array, class_labels, classes_category, count_label, title) -> None: \n",
    "    y_dataframe = pd.DataFrame(data = y, columns=[classes_category])\n",
    "    y_dataframe[count_label] = 0\n",
    "    y_dataframe = y_dataframe.groupby(classes_category, as_index=False).count()\n",
    "    y_dataframe.reset_index()\n",
    "    \n",
    "    for class_label_key in class_labels:\n",
    "        class_label_value = class_labels[class_label_key]\n",
    "        y_dataframe.loc[y_dataframe[classes_category] == class_label_key, classes_category] = class_label_value\n",
    "    \n",
    "    y_dataframe.plot.bar(x = classes_category, y = count_label, title=title)\n",
    "    plt.figure(figsize=(20, 5))\n",
    "    plt.show()"
   ]
  },
  {
   "cell_type": "markdown",
   "id": "857c7025",
   "metadata": {},
   "source": [
    "##### #1.1.1 PEMS-SF\n",
    "Some days of the weeks were skipped due to holidays or technical issues but the distribution wasn't changed so much.\n",
    "<br/>\n",
    "Count of classified days are somewhat similar."
   ]
  },
  {
   "cell_type": "code",
   "execution_count": null,
   "id": "c96e93ff",
   "metadata": {},
   "outputs": [],
   "source": [
    "draw_class_equilibrium(train_y_pems_sf, PEMS_SF_CLASS_VALUES_MAPPER, PEMS_SF_CLASSES_CATEGORY, \"Recorded count\", \"PEMS_SF Train data\")"
   ]
  },
  {
   "cell_type": "code",
   "execution_count": null,
   "id": "aa796aa1",
   "metadata": {},
   "outputs": [],
   "source": [
    "draw_class_equilibrium(test_y_pems_sf, PEMS_SF_CLASS_VALUES_MAPPER, U_WAVE_CLASSES_CATEGORY, \"Recorded count\", \"PEMS_SF Test data\")"
   ]
  },
  {
   "cell_type": "markdown",
   "id": "f404df16",
   "metadata": {},
   "source": [
    "##### #1.1.2 U_WAVE_GESTURE\n",
    "This dataset is has an even class distribution both in train and test subsets."
   ]
  },
  {
   "cell_type": "code",
   "execution_count": null,
   "id": "29537afe",
   "metadata": {},
   "outputs": [],
   "source": [
    "draw_class_equilibrium(train_y_u_wave_gesture, U_WAVE_GESTURE_CLASS_VALUES_MAPPER, U_WAVE_CLASSES_CATEGORY, \"Recorded count\", \"U_WAVE_GESTURE Train data\")"
   ]
  },
  {
   "cell_type": "code",
   "execution_count": null,
   "id": "94d2960c",
   "metadata": {},
   "outputs": [],
   "source": [
    "draw_class_equilibrium(test_y_u_wave_gesture, U_WAVE_GESTURE_CLASS_VALUES_MAPPER, U_WAVE_CLASSES_CATEGORY, \"Recorded count\", \"U_WAVE_GESTURE Test data\")\n"
   ]
  },
  {
   "cell_type": "markdown",
   "id": "f58724f3",
   "metadata": {},
   "source": [
    "### #1.2 U Wave Gesture axis evolution"
   ]
  },
  {
   "cell_type": "markdown",
   "id": "d2ad0043",
   "metadata": {},
   "source": [
    "##### #1.2.1 Random example for each gesture"
   ]
  },
  {
   "cell_type": "code",
   "execution_count": null,
   "id": "3cb24edb",
   "metadata": {},
   "outputs": [],
   "source": [
    "def plot_gesture_evolution(chosen_row: pd.Series, class_label_value: str) -> None:\n",
    "    x_asis_evolution = chosen_row[0]\n",
    "    y_asis_evolution = chosen_row[1]\n",
    "    z_asis_evolution = chosen_row[2]\n",
    "    \n",
    "    number_of_points = len(x_asis_evolution)\n",
    "    plot_x_axis = np.linspace(0, number_of_points - 1, number_of_points)\n",
    "    plt.plot(plot_x_axis, x_asis_evolution, label=\"X Asis evolution\")\n",
    "    plt.plot(plot_x_axis, y_asis_evolution, label=\"Y Asis evolution\", linestyle=\":\")\n",
    "    plt.plot(plot_x_axis, z_asis_evolution, label=\"Z Asis evolution\", linestyle=\"--\")\n",
    "    plt.xlabel(\"Time units\")\n",
    "    plt.ylabel(\"Position\")\n",
    "    plt.title(class_label_value)\n",
    "    plt.legend()\n",
    "    plt.figure(figsize=(20, 5))\n",
    "    plt.show()\n"
   ]
  },
  {
   "cell_type": "code",
   "execution_count": null,
   "id": "53ef042c",
   "metadata": {},
   "outputs": [],
   "source": [
    "for class_label_key in U_WAVE_GESTURE_CLASS_VALUES_MAPPER.keys():\n",
    "    class_label_value = U_WAVE_GESTURE_CLASS_VALUES_MAPPER[class_label_key]\n",
    "    current_gesture_data_frame = u_wave_gesture_train_translated.loc[u_wave_gesture_train_translated[U_WAVE_CLASSES_CATEGORY] == class_label_value]\n",
    "    number_of_rows = len(current_gesture_data_frame.index)\n",
    "    chosen_index = random.randint(0, number_of_rows - 1)\n",
    "    chosen_row =  current_gesture_data_frame.iloc[chosen_index]\n",
    "    plot_gesture_evolution(chosen_row, class_label_value)"
   ]
  },
  {
   "cell_type": "markdown",
   "metadata": {},
   "source": [
    "##### #1.2.2 Axis evolution distribution per gesture"
   ]
  },
  {
   "cell_type": "code",
   "execution_count": null,
   "id": "e4a9b5c7",
   "metadata": {},
   "outputs": [],
   "source": [
    "def plot_axis_evolution(data_frame: pd.DataFrame, column_name: str, classes_category: str) -> None:\n",
    "    axis_data_frame = data_frame[[column_name, classes_category]]\n",
    "    \n",
    "    grouped_by_class= dict()\n",
    "    for index in range(0, len(axis_data_frame.index)):\n",
    "        current_row = axis_data_frame.iloc[index]\n",
    "        values_array = current_row[0]\n",
    "        correct_class = current_row[1]\n",
    "        value_for_current_series = values_array.mean()\n",
    "\n",
    "        if correct_class in grouped_by_class:\n",
    "            old_array = grouped_by_class[correct_class]\n",
    "            old_array.append(value_for_current_series)\n",
    "        else:\n",
    "            grouped_by_class[correct_class] = [value_for_current_series]\n",
    "\n",
    "    for correct_class in grouped_by_class:\n",
    "        correct_class_values_distribution = grouped_by_class[correct_class]\n",
    "        length = len(correct_class_values_distribution)\n",
    "        plt.bar([0.0] + correct_class_values_distribution, [\"0.0\"] + ([correct_class] * length), \\\n",
    "            color=U_WAVE_GESTURE_CLASS_VALUES_TO_COLOR_MAPPER[correct_class], width=(10e-8 * 5), alpha=0.3, label=correct_class)\n",
    "\n",
    "    plt.xlabel(\"Mean values\")\n",
    "    plt.ylabel(classes_category)\n",
    "    plt.legend()\n",
    "    plt.title(\"Axis distribution for {} per gesture\".format(column_name))\n",
    "    plt.figure(figsize=(20, 5))\n",
    "    plt.show()\n",
    "\n",
    "def plot_all_axis_evolution(data_frame: pd.DataFrame, classes_category: str) -> None:\n",
    "    plot_axis_evolution(data_frame, \"dim_0\", classes_category)\n",
    "    plot_axis_evolution(data_frame, \"dim_1\", classes_category)\n",
    "    plot_axis_evolution(data_frame, \"dim_2\", classes_category)"
   ]
  },
  {
   "cell_type": "code",
   "execution_count": null,
   "id": "d5444082",
   "metadata": {},
   "outputs": [],
   "source": [
    "plot_all_axis_evolution(u_wave_gesture_train_translated, U_WAVE_CLASSES_CATEGORY)"
   ]
  },
  {
   "cell_type": "markdown",
   "id": "3576bc86",
   "metadata": {},
   "source": [
    "### #1.3 PEMS-SF Analysis"
   ]
  },
  {
   "cell_type": "markdown",
   "id": "0c0ce50a",
   "metadata": {},
   "source": [
    "#### #1.3.1 Best sensors deviation week days"
   ]
  },
  {
   "cell_type": "code",
   "execution_count": null,
   "id": "75e5a0b9",
   "metadata": {},
   "outputs": [],
   "source": [
    "NUMBER_OF_TOP_SENSORS = 10\n",
    "NUMBER_OF_DAYS = 8\n",
    "\n",
    "def standard_deviation(element):\n",
    "    if type(element) == pd.Series:\n",
    "        return element.std()\n",
    "    else:\n",
    "        return element\n",
    "\n",
    "def fetch_days(data_frame: pd.DataFrame, class_labels: list, classes_category: str):\n",
    "    new_data_frame = pd.DataFrame(columns=data_frame.columns)\n",
    "    for class_label in class_labels:\n",
    "        for days_index in range(0, NUMBER_OF_DAYS): \n",
    "            row = data_frame.loc[data_frame[classes_category] == class_label].iloc[days_index]\n",
    "            new_data_frame.loc[len(new_data_frame.index)] = row\n",
    "    \n",
    "    random_row = data_frame.iloc[random.randint(0, len(data_frame.index))] \n",
    "    new_data_frame.loc[len(new_data_frame.index)] = random_row\n",
    "\n",
    "    return new_data_frame\n",
    "\n",
    "def find_top_sensors_by_std_sum_desc(data_frame : pd.DataFrame, sensors_columns: list) -> list:\n",
    "    data_frame = data_frame.applymap(standard_deviation)\n",
    "    sensor_ordered_array = []\n",
    "    for sensor_column in sensors_columns:\n",
    "        sensor_standard_deviations = data_frame[sensor_column]\n",
    "        sensor_sum = sensor_standard_deviations.sum()\n",
    "        sensor_ordered_array.append((sensor_column, sensor_sum))\n",
    "    \n",
    "    sensor_ordered_array.sort(key=lambda pair : pair[1], reverse=True)\n",
    "    sensor_ordered_array = sensor_ordered_array[0: NUMBER_OF_TOP_SENSORS]\n",
    "    chosen_sensors = list(map(lambda pair: pair[0], sensor_ordered_array))\n",
    "    return chosen_sensors\n",
    "\n",
    "def plot_occupation_rate_deviation_on_days(data_frame: pd.DataFrame, sensors: list, classes_category: str) -> None:\n",
    "    data_frame = data_frame.applymap(standard_deviation)\n",
    "    \n",
    "    for chosen_sensor in sensors:\n",
    "        sensor_data_frame = data_frame[[chosen_sensor, classes_category]]\n",
    "        plt.figure(figsize=(20, 5))\n",
    "        plt.title(\"Occupation rate variation for sensor {}\".format(chosen_sensor))\n",
    "        plt.xlabel(classes_category)\n",
    "        plt.ylabel(\"Occupation rate\")\n",
    "        seaborn.boxplot(x = classes_category, y = chosen_sensor, data = sensor_data_frame)\n",
    "        plt.show()\n"
   ]
  },
  {
   "cell_type": "code",
   "execution_count": null,
   "id": "79f749b0",
   "metadata": {},
   "outputs": [],
   "source": [
    "chosen_days_data_frame = fetch_days(pems_sf_train_translated, PEMS_SF_CLASS_VALUES_MAPPER.values(), PEMS_SF_CLASSES_CATEGORY)\n",
    "chosen_sensors = find_top_sensors_by_std_sum_desc(chosen_days_data_frame, pems_sf_columns)\n",
    "plot_occupation_rate_deviation_on_days(chosen_days_data_frame, chosen_sensors, PEMS_SF_CLASSES_CATEGORY)"
   ]
  },
  {
   "cell_type": "markdown",
   "id": "28165f35",
   "metadata": {},
   "source": [
    "#### #1.3.2 Best sensors occupation rate year evolution"
   ]
  },
  {
   "cell_type": "code",
   "execution_count": null,
   "id": "0614565b",
   "metadata": {},
   "outputs": [],
   "source": [
    "def compute_mean_values_on_columns(data_frame: pd.DataFrame) -> pd.DataFrame:\n",
    "    return data_frame.applymap(lambda x : x.mean())\n",
    "\n",
    "def get_top_sensors_by_mean_values_std_desc(data_frame: pd.DataFrame, number_of_sensors: int):\n",
    "    data_frame = compute_mean_values_on_columns(data_frame)\n",
    "    return data_frame.std(axis = 0).sort_values(ascending = False)[0:number_of_sensors].index"
   ]
  },
  {
   "cell_type": "code",
   "execution_count": null,
   "id": "313fcde2",
   "metadata": {},
   "outputs": [],
   "source": [
    "top_sensors = get_top_sensors_by_mean_values_std_desc(train_x_pems_sf, NUMBER_OF_TOP_SENSORS)\n",
    "mean_data_frame = compute_mean_values_on_columns(train_x_pems_sf)"
   ]
  },
  {
   "cell_type": "code",
   "execution_count": null,
   "id": "ee11d342",
   "metadata": {},
   "outputs": [],
   "source": [
    "plt.figure(figsize=(20, 5))\n",
    "plt.title(\"Occupation rate year evolution\")\n",
    "plt.xlabel(\"Time\")\n",
    "plt.ylabel(\"Occupation rate\")\n",
    "seaborn.lineplot(data = mean_data_frame[top_sensors], dashes=False, lw=0.8)\n",
    "plt.show()"
   ]
  },
  {
   "cell_type": "markdown",
   "id": "5565cb28",
   "metadata": {},
   "source": [
    "# #2 Feature selection & classic algorithms"
   ]
  },
  {
   "cell_type": "markdown",
   "id": "ed2e66f1",
   "metadata": {},
   "source": [
    "## Feature expansion"
   ]
  },
  {
   "cell_type": "code",
   "execution_count": null,
   "id": "d744fb21",
   "metadata": {},
   "outputs": [],
   "source": [
    "def get_number_of_lower_peaks(values: pd.Series, peaks_neighbourhood_percentage: float = 0.02) -> int:\n",
    "    return argrelextrema(np.array(values), np.less_equal, order = int(len(values) * peaks_neighbourhood_percentage) )[0].size \n",
    "\n",
    "def get_number_of_higher_peaks(values: pd.Series, peaks_neighbourhood_percentage: float = 0.02) -> int:\n",
    "    return argrelextrema(np.array(values), np.greater_equal, order = int(len(values) * peaks_neighbourhood_percentage) )[0].size \n",
    "\n",
    "def compute_resulting_medium_acceleration_on_row(row: pd.Series, columns: list) -> float:\n",
    "    list_of_squared_values = []\n",
    "    for column_name in columns:\n",
    "        squared_value = math.sqrt(sum(map(lambda value: value ** 2, row[column_name])))\n",
    "        list_of_squared_values.append(squared_value)\n",
    "    return pd.Series(list_of_squared_values).mean()\n",
    "\n",
    "def compute_signal_area(row: pd.Series, columns: list) -> float:\n",
    "    list_of_squared_values = []\n",
    "    for column_name in columns:\n",
    "        list_of_squared_values.append(abs(row[column_name]).mean())\n",
    "    return pd.Series(list_of_squared_values).sum()\n",
    "\n",
    "def expand_u_wave_gesture_data_set(data_set: pd.DataFrame):\n",
    "    new_data_set = pd.DataFrame()\n",
    "    columns = data_set.columns \n",
    "    for column_name in columns:\n",
    "        current_column_data_set = data_set[column_name]\n",
    "\n",
    "        new_data_set[\"mean_\" + column_name] = current_column_data_set.apply(lambda x : abs(x.mean()))\n",
    "        new_data_set[\"std_\" + column_name] = current_column_data_set.apply(lambda x : abs(x.std()))\n",
    "        new_data_set[\"max_\" + column_name] = current_column_data_set.apply(lambda x : abs(x.max()))\n",
    "        new_data_set[\"min_\" + column_name] = current_column_data_set.apply(lambda x : abs(x.min()))\n",
    "        new_data_set[\"difference_\" + column_name] = current_column_data_set.apply(lambda x : abs(x.max() - x.min()))\n",
    "        new_data_set[\"skew_\" + column_name] = current_column_data_set.apply(lambda x : abs(x.skew()))\n",
    "        new_data_set[\"kurtosis_\" + column_name] = current_column_data_set.apply(lambda x : abs(x.kurtosis()))\n",
    "        new_data_set[\"mean_absolute_deviaton_\" + column_name] = current_column_data_set.apply(lambda x : abs(x.mad()))\n",
    "        new_data_set[\"interquartile_interval_\" + column_name] = current_column_data_set.apply(lambda x : abs(np.percentile(x, 25) - np.percentile(x, 75)))\n",
    "        new_data_set[\"median_\" + column_name] = current_column_data_set.apply(lambda x : abs(x.median()))\n",
    "        new_data_set[\"number_of_positives_\" + column_name] = current_column_data_set.apply(lambda x : len(x.loc[x >= 0]))\n",
    "        new_data_set[\"number_of_negatives_\" + column_name] = current_column_data_set.apply(lambda x : len(x.loc[x < 0]))\n",
    "        new_data_set[\"number_of_greater_than_mean_\" + column_name] = current_column_data_set.apply(lambda x : len(x.loc[x > x.mean()]))\n",
    "        new_data_set[\"number_of_higher_peaks_\" + column_name] = current_column_data_set.apply(lambda x : get_number_of_higher_peaks(x))\n",
    "        new_data_set[\"signal_energy_\" + column_name] = current_column_data_set.apply(lambda x : sum(map(lambda value : value**2, x)) / len(x) )\n",
    "\n",
    "    new_data_set[\"resulting_medium_acceleration\"] = data_set.apply(lambda row: compute_resulting_medium_acceleration_on_row(row, columns), axis = 1)\n",
    "    new_data_set[\"signal_area\"] = data_set.apply(lambda row: compute_signal_area(row, columns), axis = 1)\n",
    "\n",
    "    return new_data_set\n",
    "\n",
    "def expand_pems_sf_data_set(data_set: pd.DataFrame):\n",
    "    new_data_set = pd.DataFrame()\n",
    "    for column_name in data_set.columns:\n",
    "        current_column_data_set = data_set[column_name]\n",
    "        new_data_set[\"mean_\" + column_name] = current_column_data_set.apply(lambda x : x.mean())\n",
    "        new_data_set[\"number_of_lower_peaks_\" + column_name] = current_column_data_set.apply(lambda x : get_number_of_lower_peaks(x))\n",
    "        new_data_set[\"std_\" + column_name] = current_column_data_set.apply(lambda x : x.std())\n",
    "        new_data_set[\"max_\" + column_name] = current_column_data_set.apply(lambda x : x.max())\n",
    "        new_data_set[\"min_\" + column_name] = current_column_data_set.apply(lambda x : x.min())\n",
    "        new_data_set[\"difference_\" + column_name] = current_column_data_set.apply(lambda x : abs(x.max() - x.min()))\n",
    "        new_data_set[\"25_\" + column_name] = current_column_data_set.apply(lambda x : np.percentile(x, 25))\n",
    "        new_data_set[\"50_\" + column_name] = current_column_data_set.apply(lambda x : np.percentile(x, 50))\n",
    "        new_data_set[\"75_\" + column_name] = current_column_data_set.apply(lambda x : np.percentile(x, 75))\n",
    "        new_data_set[\"skew_\" + column_name] = current_column_data_set.apply(lambda x : abs(x.skew()))\n",
    "        new_data_set[\"kurtosis_\" + column_name] = current_column_data_set.apply(lambda x : abs(x.kurtosis()))\n",
    "    return new_data_set"
   ]
  },
  {
   "cell_type": "code",
   "execution_count": null,
   "id": "5d67ae94",
   "metadata": {},
   "outputs": [],
   "source": [
    "# PEMS-SF\n",
    "train_x_pems_sf_expanded = expand_pems_sf_data_set(train_x_pems_sf)\n",
    "test_x_pems_sf_expanded = expand_pems_sf_data_set(test_x_pems_sf)\n",
    "\n",
    "# U Wave Gesture\n",
    "train_x_u_wave_gesture_expanded = expand_u_wave_gesture_data_set(train_x_u_wave_gesture)\n",
    "test_x_u_wave_gesture_expanded = expand_u_wave_gesture_data_set(test_x_u_wave_gesture)"
   ]
  },
  {
   "cell_type": "markdown",
   "id": "b6c0715d",
   "metadata": {},
   "source": [
    "## Feature selection"
   ]
  },
  {
   "cell_type": "code",
   "execution_count": null,
   "id": "701c963c",
   "metadata": {},
   "outputs": [],
   "source": [
    "def select_features(X: pd.DataFrame, y : pd.DataFrame, variance_threshold_percentage = 0.6, percentile=25) -> pd.DataFrame:\n",
    "    X = VarianceThreshold(threshold=(variance_threshold_percentage * (1 - variance_threshold_percentage))).fit_transform(X)\n",
    "    X = SelectPercentile(chi2, percentile=percentile).fit_transform(X, y)\n",
    "    return pd.DataFrame(X)\n",
    "\n",
    "def combine_and_select_features(\n",
    "        X_train: pd.DataFrame, y_train: pd.DataFrame,\n",
    "        X_test: pd.DataFrame, y_test: pd.DataFrame) -> typing.Tuple[pd.DataFrame, pd.DataFrame]:\n",
    "    X_train_rows = len(X_train)\n",
    "\n",
    "    X = pd.concat([X_train, X_test])\n",
    "    y = np.concatenate((y_train, y_test))\n",
    "\n",
    "    print(\"Number of features after expansion = \", len(X.columns))\n",
    "    X_filtered = select_features(X, y)\n",
    "    print(\"Number of features after selection = \", len(X_filtered.columns))\n",
    "    \n",
    "    return (X_filtered[0:X_train_rows], X_filtered[X_train_rows: len(X_filtered)])"
   ]
  },
  {
   "cell_type": "code",
   "execution_count": null,
   "id": "60925ebe",
   "metadata": {},
   "outputs": [],
   "source": [
    "# PEMS-SF\n",
    "print(\"Selecting PEMS-SF features\")\n",
    "train_x_pems_sf_filtered, test_x_pems_sf_filtered = combine_and_select_features(\n",
    "    train_x_pems_sf_expanded, train_y_pems_sf,\n",
    "    test_x_pems_sf_expanded, test_y_pems_sf)\n",
    "\n",
    "# U Wave Gesture\n",
    "print(\"\\nSelecting U Wave Gesture features\")\n",
    "train_x_u_wave_gesture_filtered, test_x_u_wave_gesture_filtered = combine_and_select_features(\n",
    "    train_x_u_wave_gesture_expanded, train_y_u_wave_gesture,\n",
    "    test_x_u_wave_gesture_expanded, test_y_u_wave_gesture)"
   ]
  },
  {
   "cell_type": "markdown",
   "id": "1d9fce4a",
   "metadata": {},
   "source": [
    "## #2.1 PEMS-SF"
   ]
  },
  {
   "cell_type": "markdown",
   "id": "c5850c75",
   "metadata": {},
   "source": [
    "### #2.1.1 Random forest"
   ]
  },
  {
   "cell_type": "code",
   "execution_count": 77,
   "id": "bc8ff796",
   "metadata": {},
   "outputs": [
    {
     "data": {
      "text/plain": [
       "{'accuracy_score': 0.8670520231213873,\n",
       " 'precision_score': array([1.        , 0.96      , 0.83333333, 0.77272727, 0.94736842,\n",
       "        0.80645161, 0.76923077]),\n",
       " 'recall_score': array([0.86666667, 0.96      , 0.76923077, 0.73913043, 0.81818182,\n",
       "        0.92592593, 1.        ]),\n",
       " 'f1_score': array([0.92857143, 0.96      , 0.8       , 0.75555556, 0.87804878,\n",
       "        0.86206897, 0.86956522]),\n",
       " 'confusion_matrix': array([[26,  0,  0,  0,  0,  0,  4],\n",
       "        [ 0, 24,  1,  0,  0,  0,  0],\n",
       "        [ 0,  1, 20,  5,  0,  0,  0],\n",
       "        [ 0,  0,  3, 17,  1,  2,  0],\n",
       "        [ 0,  0,  0,  0, 18,  4,  0],\n",
       "        [ 0,  0,  0,  0,  0, 25,  2],\n",
       "        [ 0,  0,  0,  0,  0,  0, 20]]),\n",
       " 'parameters': {'max_depth': 15, 'min_samples_split': 5, 'n_estimators': 200}}"
      ]
     },
     "execution_count": 77,
     "metadata": {},
     "output_type": "execute_result"
    }
   ],
   "source": [
    "random_forest_parameters = {\n",
    "    \"max_depth\": [5, 10, 15, 20],\n",
    "    \"n_estimators\" : [10, 100, 200, 500],\n",
    "    \"min_samples_split\" : [2, 5, 7]\n",
    "}\n",
    "\n",
    "random_forest_grid_search_result = compute_grid_search_result(\n",
    "    RandomForestClassifier(),\n",
    "    random_forest_parameters,\n",
    "    train_x_pems_sf_filtered,\n",
    "    train_y_pems_sf)\n",
    "\n",
    "random_forest_result = fit_predict_and_compute_metrics(\n",
    "    RandomForestClassifier,\n",
    "    random_forest_grid_search_result.best_params_,\n",
    "    train_x_pems_sf_filtered,\n",
    "    train_y_pems_sf,\n",
    "    test_x_pems_sf_filtered,\n",
    "    test_y_pems_sf\n",
    ")\n",
    "\n",
    "pems_sf_results[\"random_forest\"] = random_forest_result\n",
    "random_forest_result"
   ]
  },
  {
   "cell_type": "markdown",
   "id": "70531b92",
   "metadata": {},
   "source": [
    "### #2.1.2 SVM"
   ]
  },
  {
   "cell_type": "code",
   "execution_count": 78,
   "id": "f65ba627",
   "metadata": {},
   "outputs": [
    {
     "data": {
      "text/plain": [
       "{'accuracy_score': 0.7167630057803468,\n",
       " 'precision_score': array([0.82758621, 0.85714286, 0.66666667, 0.59090909, 0.7       ,\n",
       "        0.6       , 0.81818182]),\n",
       " 'recall_score': array([0.8       , 0.72      , 0.61538462, 0.56521739, 0.63636364,\n",
       "        0.77777778, 0.9       ]),\n",
       " 'f1_score': array([0.81355932, 0.7826087 , 0.64      , 0.57777778, 0.66666667,\n",
       "        0.67741935, 0.85714286]),\n",
       " 'confusion_matrix': array([[24,  0,  0,  0,  0,  2,  4],\n",
       "        [ 3, 18,  0,  2,  0,  2,  0],\n",
       "        [ 0,  2, 16,  4,  2,  2,  0],\n",
       "        [ 0,  0,  3, 13,  2,  5,  0],\n",
       "        [ 0,  0,  2,  3, 14,  3,  0],\n",
       "        [ 0,  1,  3,  0,  2, 21,  0],\n",
       "        [ 2,  0,  0,  0,  0,  0, 18]]),\n",
       " 'parameters': {'C': 2, 'degree': 2, 'gamma': 'scale', 'kernel': 'poly'}}"
      ]
     },
     "execution_count": 78,
     "metadata": {},
     "output_type": "execute_result"
    }
   ],
   "source": [
    "svm_parameters = {\n",
    "    'kernel': ['linear', 'rbf', 'poly', 'sigmoid'],\n",
    "    'C': [1, 2, 3, 4, 5],\n",
    "    'degree': [1, 2, 3, 4, 5],\n",
    "    'gamma' : ['scale', 'auto']\n",
    "}\n",
    "\n",
    "svm_grid_search_result = compute_grid_search_result(\n",
    "    SVC(),\n",
    "    svm_parameters,\n",
    "    train_x_pems_sf_filtered,\n",
    "    train_y_pems_sf)\n",
    "\n",
    "svm_result = fit_predict_and_compute_metrics(\n",
    "    SVC,\n",
    "    svm_grid_search_result.best_params_,\n",
    "    train_x_pems_sf_filtered,\n",
    "    train_y_pems_sf,\n",
    "    test_x_pems_sf_filtered,\n",
    "    test_y_pems_sf\n",
    ")\n",
    "\n",
    "pems_sf_results[\"svm\"] = svm_result\n",
    "svm_result"
   ]
  },
  {
   "cell_type": "markdown",
   "id": "d45a5ac2",
   "metadata": {},
   "source": [
    "### #2.1.3 Gradient Boosted Trees"
   ]
  },
  {
   "cell_type": "code",
   "execution_count": 79,
   "id": "567283e9",
   "metadata": {},
   "outputs": [
    {
     "data": {
      "text/plain": [
       "{'accuracy_score': 0.930635838150289,\n",
       " 'precision_score': array([1.        , 0.88888889, 0.96      , 1.        , 0.91666667,\n",
       "        0.92592593, 0.83333333]),\n",
       " 'recall_score': array([0.86666667, 0.96      , 0.92307692, 0.86956522, 1.        ,\n",
       "        0.92592593, 1.        ]),\n",
       " 'f1_score': array([0.92857143, 0.92307692, 0.94117647, 0.93023256, 0.95652174,\n",
       "        0.92592593, 0.90909091]),\n",
       " 'confusion_matrix': array([[26,  0,  0,  0,  0,  2,  2],\n",
       "        [ 0, 24,  1,  0,  0,  0,  0],\n",
       "        [ 0,  0, 24,  0,  2,  0,  0],\n",
       "        [ 0,  3,  0, 20,  0,  0,  0],\n",
       "        [ 0,  0,  0,  0, 22,  0,  0],\n",
       "        [ 0,  0,  0,  0,  0, 25,  2],\n",
       "        [ 0,  0,  0,  0,  0,  0, 20]]),\n",
       " 'parameters': {'learning_rate': 0.1, 'max_depth': 2, 'n_estimators': 100}}"
      ]
     },
     "execution_count": 79,
     "metadata": {},
     "output_type": "execute_result"
    }
   ],
   "source": [
    "xgb_parameters = {\n",
    "    'max_depth': [2, 4, 5],\n",
    "    'n_estimators': [5, 50, 100],\n",
    "    'learning_rate': [0.05, 0.1],\n",
    "}\n",
    "\n",
    "xgb_grid_search_result = compute_grid_search_result(\n",
    "    XGBClassifier(),\n",
    "    xgb_parameters,\n",
    "    train_x_pems_sf_filtered,\n",
    "    train_y_pems_sf)\n",
    "\n",
    "xgb_result = fit_predict_and_compute_metrics(\n",
    "    XGBClassifier,\n",
    "    xgb_grid_search_result.best_params_,\n",
    "    train_x_pems_sf_filtered,\n",
    "    train_y_pems_sf,\n",
    "    test_x_pems_sf_filtered,\n",
    "    test_y_pems_sf\n",
    ")\n",
    "\n",
    "pems_sf_results[\"xgb\"] = xgb_result\n",
    "xgb_result"
   ]
  },
  {
   "cell_type": "markdown",
   "id": "b4c5f8cd",
   "metadata": {},
   "source": [
    "## #2.2 U Wave Gesture"
   ]
  },
  {
   "cell_type": "markdown",
   "id": "389a5aa3",
   "metadata": {},
   "source": [
    "### #2.2.1 Random forest"
   ]
  },
  {
   "cell_type": "code",
   "execution_count": 80,
   "id": "2d34c768",
   "metadata": {},
   "outputs": [
    {
     "data": {
      "text/plain": [
       "{'accuracy_score': 0.378125,\n",
       " 'precision_score': array([0.28571429, 0.6       , 0.42553191, 0.16666667, 0.47368421,\n",
       "        0.31818182, 0.38095238, 0.34285714]),\n",
       " 'recall_score': array([0.5  , 0.675, 0.5  , 0.075, 0.225, 0.35 , 0.4  , 0.3  ]),\n",
       " 'f1_score': array([0.36363636, 0.63529412, 0.45977011, 0.10344828, 0.30508475,\n",
       "        0.33333333, 0.3902439 , 0.32      ]),\n",
       " 'confusion_matrix': array([[20,  1,  2,  6,  0,  2,  5,  4],\n",
       "        [ 3, 27,  0,  0,  0,  0,  6,  4],\n",
       "        [ 7,  0, 20,  3,  2,  8,  0,  0],\n",
       "        [ 7,  0, 16,  3,  3,  8,  0,  3],\n",
       "        [10,  1,  5,  0,  9, 12,  1,  2],\n",
       "        [10,  0,  4,  6,  5, 14,  0,  1],\n",
       "        [ 8,  7,  0,  0,  0,  0, 16,  9],\n",
       "        [ 5,  9,  0,  0,  0,  0, 14, 12]]),\n",
       " 'parameters': {'max_depth': 15, 'min_samples_split': 7, 'n_estimators': 100}}"
      ]
     },
     "execution_count": 80,
     "metadata": {},
     "output_type": "execute_result"
    }
   ],
   "source": [
    "random_forest_parameters = {\n",
    "    \"max_depth\": [5, 10, 15, 20],\n",
    "    \"n_estimators\" : [10, 100, 200, 500],\n",
    "    \"min_samples_split\" : [2, 5, 7]\n",
    "}\n",
    "\n",
    "random_forest_grid_search_result = compute_grid_search_result(\n",
    "    RandomForestClassifier(),\n",
    "    random_forest_parameters,\n",
    "    train_x_u_wave_gesture_filtered,\n",
    "    train_y_u_wave_gesture)\n",
    "\n",
    "random_forest_result = fit_predict_and_compute_metrics(\n",
    "    RandomForestClassifier,\n",
    "    random_forest_grid_search_result.best_params_,\n",
    "    train_x_u_wave_gesture_filtered,\n",
    "    train_y_u_wave_gesture,\n",
    "    test_x_u_wave_gesture_filtered,\n",
    "    test_y_u_wave_gesture\n",
    ")\n",
    "\n",
    "u_wave_gesture_results[\"random_forest\"] = random_forest_result\n",
    "random_forest_result"
   ]
  },
  {
   "cell_type": "markdown",
   "id": "aaaee093",
   "metadata": {},
   "source": [
    "### #2.2.2 SVM"
   ]
  },
  {
   "cell_type": "code",
   "execution_count": 81,
   "id": "33be0051",
   "metadata": {},
   "outputs": [
    {
     "data": {
      "text/plain": [
       "{'accuracy_score': 0.403125,\n",
       " 'precision_score': array([0.29487179, 0.60465116, 0.5       , 0.3125    , 0.43478261,\n",
       "        0.39473684, 0.39285714, 0.39583333]),\n",
       " 'recall_score': array([0.575, 0.65 , 0.375, 0.25 , 0.25 , 0.375, 0.275, 0.475]),\n",
       " 'f1_score': array([0.38983051, 0.62650602, 0.42857143, 0.27777778, 0.31746032,\n",
       "        0.38461538, 0.32352941, 0.43181818]),\n",
       " 'confusion_matrix': array([[23,  0,  0,  6,  0,  3,  3,  5],\n",
       "        [ 4, 26,  0,  0,  0,  0,  5,  5],\n",
       "        [ 6,  1, 15, 12,  2,  4,  0,  0],\n",
       "        [ 8,  0, 11, 10,  4,  4,  0,  3],\n",
       "        [10,  3,  2,  0, 10, 12,  1,  2],\n",
       "        [11,  0,  2,  4,  7, 15,  0,  1],\n",
       "        [11,  5,  0,  0,  0,  0, 11, 13],\n",
       "        [ 5,  8,  0,  0,  0,  0,  8, 19]]),\n",
       " 'parameters': {'C': 4, 'degree': 1, 'gamma': 'scale', 'kernel': 'poly'}}"
      ]
     },
     "execution_count": 81,
     "metadata": {},
     "output_type": "execute_result"
    }
   ],
   "source": [
    "svm_parameters = {\n",
    "    'kernel': ['linear', 'rbf', 'poly', 'sigmoid'],\n",
    "    'C': [1, 2, 3, 4, 5],\n",
    "    'degree': [1, 2, 3, 4, 5],\n",
    "    'gamma' : ['scale', 'auto']\n",
    "}\n",
    "\n",
    "svm_grid_search_result = compute_grid_search_result(\n",
    "    SVC(),\n",
    "    svm_parameters,\n",
    "    train_x_u_wave_gesture_filtered,\n",
    "    train_y_u_wave_gesture)\n",
    "\n",
    "svm_result = fit_predict_and_compute_metrics(\n",
    "    SVC,\n",
    "    svm_grid_search_result.best_params_,\n",
    "    train_x_u_wave_gesture_filtered,\n",
    "    train_y_u_wave_gesture,\n",
    "    test_x_u_wave_gesture_filtered,\n",
    "    test_y_u_wave_gesture\n",
    ")\n",
    "\n",
    "u_wave_gesture_results[\"svm\"] = svm_result\n",
    "svm_result"
   ]
  },
  {
   "cell_type": "markdown",
   "id": "4beb67a8",
   "metadata": {},
   "source": [
    "### #2.2.3 Gradient Boosted Trees"
   ]
  },
  {
   "cell_type": "code",
   "execution_count": 82,
   "id": "4924edff",
   "metadata": {},
   "outputs": [
    {
     "data": {
      "text/plain": [
       "{'accuracy_score': 0.35625,\n",
       " 'precision_score': array([0.3442623 , 0.55813953, 0.31111111, 0.28571429, 0.33333333,\n",
       "        0.32692308, 0.32258065, 0.31818182]),\n",
       " 'recall_score': array([0.525, 0.6  , 0.35 , 0.1  , 0.25 , 0.425, 0.25 , 0.35 ]),\n",
       " 'f1_score': array([0.41584158, 0.57831325, 0.32941176, 0.14814815, 0.28571429,\n",
       "        0.36956522, 0.28169014, 0.33333333]),\n",
       " 'confusion_matrix': array([[21,  1,  3,  2,  3,  3,  3,  4],\n",
       "        [ 5, 24,  0,  0,  0,  0,  4,  7],\n",
       "        [ 6,  1, 14,  8,  2,  8,  1,  0],\n",
       "        [ 4,  0, 14,  4,  5,  9,  0,  4],\n",
       "        [ 6,  1,  6,  0, 10, 15,  1,  1],\n",
       "        [ 7,  0,  8,  0,  7, 17,  0,  1],\n",
       "        [ 6, 10,  0,  0,  1,  0, 10, 13],\n",
       "        [ 6,  6,  0,  0,  2,  0, 12, 14]]),\n",
       " 'parameters': {'learning_rate': 0.05, 'max_depth': 4, 'n_estimators': 5}}"
      ]
     },
     "execution_count": 82,
     "metadata": {},
     "output_type": "execute_result"
    }
   ],
   "source": [
    "xgb_parameters = {\n",
    "    'max_depth': [2, 4, 5],\n",
    "    'n_estimators': [5, 50, 100],\n",
    "    'learning_rate': [0.05, 0.1],\n",
    "}\n",
    "\n",
    "xgb_grid_search_result = compute_grid_search_result(\n",
    "    XGBClassifier(),\n",
    "    xgb_parameters,\n",
    "    train_x_u_wave_gesture_filtered,\n",
    "    train_y_u_wave_gesture)\n",
    "\n",
    "xgb_result = fit_predict_and_compute_metrics(\n",
    "    XGBClassifier,\n",
    "    xgb_grid_search_result.best_params_,\n",
    "    train_x_u_wave_gesture_filtered,\n",
    "    train_y_u_wave_gesture,\n",
    "    test_x_u_wave_gesture_filtered,\n",
    "    test_y_u_wave_gesture\n",
    ")\n",
    "\n",
    "u_wave_gesture_results[\"xgb\"] = xgb_result\n",
    "xgb_result"
   ]
  },
  {
   "cell_type": "markdown",
   "id": "043219bc",
   "metadata": {},
   "source": [
    "# #3 Neural networks"
   ]
  },
  {
   "cell_type": "markdown",
   "id": "a39080e3",
   "metadata": {},
   "source": [
    "## Data preparation"
   ]
  },
  {
   "cell_type": "code",
   "execution_count": null,
   "id": "92f2d8c1",
   "metadata": {},
   "outputs": [],
   "source": [
    "def expand_u_wave_gesture_data_set_for_neural_networks(data_set: pd.DataFrame):\n",
    "    columns = data_set.columns \n",
    "    series_length = len(data_set.iloc[0][0])\n",
    "\n",
    "    final_columns = []\n",
    "    for column in columns:\n",
    "        for series_index in range(0, series_length):\n",
    "            final_columns.append(\"{}_{}\".format(column, series_index))\n",
    "    new_data_set = pd.DataFrame(columns = final_columns)\n",
    "\n",
    "    for row_index in range(0, len(data_set)):\n",
    "        row = data_set.iloc[row_index]\n",
    "        \n",
    "        new_row = []\n",
    "        for column in columns:\n",
    "            new_row += list(row[column])\n",
    "        \n",
    "        new_data_set.loc[row_index] = new_row\n",
    "\n",
    "    return new_data_set"
   ]
  },
  {
   "cell_type": "code",
   "execution_count": null,
   "id": "e2d70b0f",
   "metadata": {},
   "outputs": [],
   "source": [
    "train_x_u_wave_gesture_expanded_neural_networks = expand_u_wave_gesture_data_set_for_neural_networks(train_x_u_wave_gesture)\n",
    "test_x_u_wave_gesture_expanded_neural_networks = expand_u_wave_gesture_data_set_for_neural_networks(test_x_u_wave_gesture)"
   ]
  },
  {
   "cell_type": "markdown",
   "id": "08b2be2f",
   "metadata": {},
   "source": [
    "## U Wave Gesture"
   ]
  },
  {
   "cell_type": "markdown",
   "id": "afbdaa96",
   "metadata": {},
   "source": [
    "### #3.2.1 Multi-Layered Perceptron"
   ]
  },
  {
   "cell_type": "code",
   "execution_count": 83,
   "id": "10a4d8b6",
   "metadata": {},
   "outputs": [
    {
     "data": {
      "text/plain": [
       "{'accuracy_score': 0.846875,\n",
       " 'precision_score': array([0.81818182, 0.97435897, 0.83333333, 0.85185185, 0.66037736,\n",
       "        0.78947368, 0.97297297, 0.95      ]),\n",
       " 'recall_score': array([0.9  , 0.95 , 0.875, 0.575, 0.875, 0.75 , 0.9  , 0.95 ]),\n",
       " 'f1_score': array([0.85714286, 0.96202532, 0.85365854, 0.68656716, 0.75268817,\n",
       "        0.76923077, 0.93506494, 0.95      ]),\n",
       " 'confusion_matrix': array([[36,  0,  0,  0,  0,  4,  0,  0],\n",
       "        [ 1, 38,  0,  0,  0,  0,  1,  0],\n",
       "        [ 0,  0, 35,  1,  4,  0,  0,  0],\n",
       "        [ 0,  0,  0, 23, 14,  1,  0,  2],\n",
       "        [ 1,  0,  1,  1, 35,  2,  0,  0],\n",
       "        [ 4,  0,  4,  2,  0, 30,  0,  0],\n",
       "        [ 0,  1,  2,  0,  0,  1, 36,  0],\n",
       "        [ 2,  0,  0,  0,  0,  0,  0, 38]]),\n",
       " 'parameters': {'activation': 'relu',\n",
       "  'solver': 'adam',\n",
       "  'alpha': 0.001,\n",
       "  'learning_rate': 'constant',\n",
       "  'hidden_layer_sizes': (100, 100, 100, 100, 100),\n",
       "  'max_iter': 100000}}"
      ]
     },
     "execution_count": 83,
     "metadata": {},
     "output_type": "execute_result"
    }
   ],
   "source": [
    "def get_layers(number_of_layers, number_of_neurons_per_layer):\n",
    "    return tuple((number_of_neurons_per_layer for x in range(0, number_of_layers)))\n",
    "\n",
    "mlp_parameters = {\n",
    "    'activation': 'relu',\n",
    "    'solver': 'adam',\n",
    "    'alpha': 0.001,\n",
    "    'learning_rate': 'constant',\n",
    "    'hidden_layer_sizes' : get_layers(5, 100),\n",
    "    'max_iter' : int(1e5)\n",
    "}\n",
    "\n",
    "mlp_result = fit_predict_and_compute_metrics(\n",
    "    MLPClassifier,\n",
    "    mlp_parameters,\n",
    "    train_x_u_wave_gesture_expanded_neural_networks,\n",
    "    train_y_u_wave_gesture,\n",
    "    test_x_u_wave_gesture_expanded_neural_networks,\n",
    "    test_y_u_wave_gesture\n",
    ")\n",
    "\n",
    "u_wave_gesture_results[\"mlp\"] = mlp_result\n",
    "mlp_result"
   ]
  },
  {
   "cell_type": "markdown",
   "id": "e2d52a0f",
   "metadata": {},
   "source": [
    "### #3.2.2 Convolutional Neural Network"
   ]
  },
  {
   "cell_type": "code",
   "execution_count": null,
   "id": "5f011f8e",
   "metadata": {},
   "outputs": [],
   "source": [
    "def build_cnn_model(input_shape, output_shape):\n",
    "    n_filters = 2\n",
    "    filter_size = 25\n",
    "    pool_size = 10\n",
    "    \n",
    "    model = tf.keras.models.Sequential([\n",
    "    tf.keras.layers.Conv1D(n_filters, filter_size, activation=\"relu\", padding=\"same\", input_shape=input_shape),\n",
    "    tf.keras.layers.Conv1D(n_filters * pool_size, filter_size , activation=\"relu\"),\n",
    "    tf.keras.layers.MaxPooling1D(pool_size),\n",
    "    tf.keras.layers.Conv1D(n_filters * pool_size, filter_size , activation=\"relu\"),\n",
    "    tf.keras.layers.MaxPooling1D(pool_size),\n",
    "    tf.keras.layers.Flatten(),\n",
    "    tf.keras.layers.Dense(500, activation = \"relu\"),\n",
    "    tf.keras.layers.Dense(output_shape)\n",
    "    ])\n",
    "    \n",
    "    loss_fn = tf.keras.losses.CategoricalCrossentropy(from_logits=False)\n",
    "    adam = tf.keras.optimizers.Adam(learning_rate=0.001, beta_1=0.9, beta_2=0.999, epsilon=1e-07, amsgrad=False, name='adam')\n",
    "    \n",
    "    model.compile(optimizer=adam,\n",
    "                loss=loss_fn,\n",
    "                metrics=['accuracy'])\n",
    "    return model"
   ]
  },
  {
   "cell_type": "code",
   "execution_count": null,
   "id": "8e7582dc",
   "metadata": {},
   "outputs": [],
   "source": [
    "train_x_cnn = np.array(train_x_u_wave_gesture_expanded_neural_networks)\n",
    "train_x_cnn = train_x_cnn.reshape(train_x_cnn.shape[0], train_x_cnn.shape[1], 1)\n",
    "train_y_cnn = tf.keras.utils.to_categorical(train_y_u_wave_gesture)\n",
    "\n",
    "test_x_cnn = np.array(test_x_u_wave_gesture_expanded_neural_networks)\n",
    "test_x_cnn = test_x_cnn.reshape(test_x_cnn.shape[0], test_x_cnn.shape[1], 1)\n",
    "test_y_cnn = test_y_u_wave_gesture"
   ]
  },
  {
   "cell_type": "code",
   "execution_count": 84,
   "id": "2c995df6",
   "metadata": {},
   "outputs": [
    {
     "name": "stderr",
     "output_type": "stream",
     "text": [
      "/home/samanu/.local/lib/python3.8/site-packages/sklearn/metrics/_classification.py:1318: UndefinedMetricWarning: Precision is ill-defined and being set to 0.0 in labels with no predicted samples. Use `zero_division` parameter to control this behavior.\n",
      "  _warn_prf(average, modifier, msg_start, len(result))\n"
     ]
    },
    {
     "data": {
      "text/plain": [
       "{'accuracy_score': 0.128125,\n",
       " 'precision_score': array([0.        , 0.        , 0.07142857, 0.        , 0.        ,\n",
       "        0.        , 0.13157895, 0.        ]),\n",
       " 'recall_score': array([0.   , 0.   , 0.025, 0.   , 0.   , 0.   , 1.   , 0.   ]),\n",
       " 'f1_score': array([0.        , 0.        , 0.03703704, 0.        , 0.        ,\n",
       "        0.        , 0.23255814, 0.        ]),\n",
       " 'confusion_matrix': array([[ 0,  0,  1,  0,  0,  0, 39,  0],\n",
       "        [ 0,  0,  6,  0,  0,  0, 34,  0],\n",
       "        [ 0,  0,  1,  0,  0,  0, 39,  0],\n",
       "        [ 0,  0,  0,  0,  0,  0, 40,  0],\n",
       "        [ 0,  0,  2,  0,  0,  0, 38,  0],\n",
       "        [ 0,  0,  4,  0,  0,  0, 34,  2],\n",
       "        [ 0,  0,  0,  0,  0,  0, 40,  0],\n",
       "        [ 0,  0,  0,  0,  0,  0, 40,  0]])}"
      ]
     },
     "execution_count": 84,
     "metadata": {},
     "output_type": "execute_result"
    }
   ],
   "source": [
    "cnn_model = build_cnn_model(train_x_cnn.shape[1:], train_y_cnn.shape[1])\n",
    "cnn_result = fit_predict_and_compute_metrics_nn(cnn_model, train_x_cnn, train_y_cnn, test_x_cnn, test_y_cnn, batch_size=5, epochs=20, verbose=0)\n",
    "\n",
    "u_wave_gesture_results[\"cnn\"] = cnn_result\n",
    "cnn_result"
   ]
  },
  {
   "cell_type": "markdown",
   "id": "ed679681",
   "metadata": {},
   "source": [
    "### #3.2.3 LSTM"
   ]
  },
  {
   "cell_type": "code",
   "execution_count": null,
   "id": "2619fd1d",
   "metadata": {},
   "outputs": [],
   "source": [
    "def build_lstm_model(input_shape, output_shape):\n",
    "    model = tf.keras.Sequential()\n",
    "    model.add(tf.keras.layers.LSTM(1000, input_shape=input_shape))\n",
    "    model.add(tf.keras.layers.Dropout(0.5))\n",
    "    model.add(tf.keras.layers.Dense(1000, activation='relu'))\n",
    "    model.add(tf.keras.layers.Dense(output_shape, activation='softmax'))\n",
    "    model.compile(loss='categorical_crossentropy', optimizer='adam', metrics=['accuracy'])\n",
    "    return model"
   ]
  },
  {
   "cell_type": "code",
   "execution_count": null,
   "id": "18282354",
   "metadata": {},
   "outputs": [],
   "source": [
    "train_x = get_np_array_from_data_frame(train_x_u_wave_gesture)\n",
    "train_y = tf.keras.utils.to_categorical(train_y_u_wave_gesture)\n",
    "\n",
    "test_x = get_np_array_from_data_frame(test_x_u_wave_gesture)\n",
    "test_y = test_y_u_wave_gesture"
   ]
  },
  {
   "cell_type": "code",
   "execution_count": 85,
   "id": "a5f579b5",
   "metadata": {},
   "outputs": [
    {
     "data": {
      "text/plain": [
       "{'accuracy_score': 0.809375,\n",
       " 'precision_score': array([0.84090909, 0.97560976, 0.68085106, 0.72222222, 0.65306122,\n",
       "        0.72413793, 1.        , 0.92857143]),\n",
       " 'recall_score': array([0.925, 1.   , 0.8  , 0.65 , 0.8  , 0.525, 0.8  , 0.975]),\n",
       " 'f1_score': array([0.88095238, 0.98765432, 0.73563218, 0.68421053, 0.71910112,\n",
       "        0.60869565, 0.88888889, 0.95121951]),\n",
       " 'confusion_matrix': array([[37,  0,  0,  1,  0,  2,  0,  0],\n",
       "        [ 0, 40,  0,  0,  0,  0,  0,  0],\n",
       "        [ 1,  0, 32,  0,  5,  1,  0,  1],\n",
       "        [ 0,  0,  0, 26, 11,  2,  0,  1],\n",
       "        [ 0,  0,  1,  3, 32,  3,  0,  1],\n",
       "        [ 5,  0,  8,  5,  1, 21,  0,  0],\n",
       "        [ 0,  1,  6,  1,  0,  0, 32,  0],\n",
       "        [ 1,  0,  0,  0,  0,  0,  0, 39]])}"
      ]
     },
     "execution_count": 85,
     "metadata": {},
     "output_type": "execute_result"
    }
   ],
   "source": [
    "lstm_model = build_lstm_model(train_x.shape[1:], train_y.shape[1])\n",
    "lstm_result = fit_predict_and_compute_metrics_nn(lstm_model, train_x, train_y, test_x, test_y, batch_size=5, epochs=10, verbose=0)\n",
    "\n",
    "u_wave_gesture_results[\"lstm\"] = lstm_result\n",
    "lstm_result"
   ]
  },
  {
   "cell_type": "markdown",
   "id": "125758fe",
   "metadata": {},
   "source": [
    "# #4 Final overview"
   ]
  },
  {
   "cell_type": "code",
   "execution_count": 162,
   "id": "f8d73cc5",
   "metadata": {},
   "outputs": [],
   "source": [
    "def plot_algorithms_accuracy(execution_results, data_set_name, width = 0.25):\n",
    "    algorithms = list(execution_results.keys())\n",
    "    accuracy_scores = []\n",
    "    for key in execution_results.keys():\n",
    "        value = execution_results[key]\n",
    "        accuracy_scores.append(value[\"accuracy_score\"] * 100)\n",
    "    \n",
    "    plt.figure(figsize=(20, 5))\n",
    "    plt.bar(algorithms, accuracy_scores, color ='green', width = width)\n",
    "\n",
    "    plt.xlabel(\"Algorithms\")\n",
    "    plt.ylabel('Scores')\n",
    "    plt.title(\"{} algorithms efficiency\".format(data_set_name))\n",
    "    plt.show()\n",
    "\n",
    "def plot_algorithm_metric_with_respect_to_classes(data_set_name, algorithm, metric, metric_value, class_labels, width = 0.15):\n",
    "    classes = class_labels.values()\n",
    "    plt.figure(figsize=(20, 5))\n",
    "    plt.bar(classes, metric_value, color ='green', width = width)\n",
    "\n",
    "    plt.xlabel(\"Classes\")\n",
    "    plt.ylabel(metric)\n",
    "    plt.title(\"{} {} {} score class distribution\".format(data_set_name, algorithm, metric))\n",
    "    plt.show()\n",
    "\n",
    "def plot_algorithm_overview(data_set_name, algorithm, execution_result, class_labels):\n",
    "    for metric in execution_result.keys():\n",
    "        if metric in [\"precision_score\", \"recall_score\", \"f1_score\"]:\n",
    "            metric_value = execution_result[metric]\n",
    "            plot_algorithm_metric_with_respect_to_classes(data_set_name, algorithm, metric, metric_value, class_labels)"
   ]
  },
  {
   "cell_type": "markdown",
   "id": "242001e2",
   "metadata": {},
   "source": [
    "## #4.1 PEMS-SF"
   ]
  },
  {
   "cell_type": "markdown",
   "id": "a1215cee",
   "metadata": {},
   "source": [
    "### 4.1.1 Accuracy"
   ]
  },
  {
   "cell_type": "code",
   "execution_count": 140,
   "id": "d3eeced3",
   "metadata": {},
   "outputs": [
    {
     "data": {
      "image/png": "[encoded data removed]",
      "text/plain": [
       "<Figure size 1440x360 with 1 Axes>"
      ]
     },
     "metadata": {
      "needs_background": "light"
     },
     "output_type": "display_data"
    }
   ],
   "source": [
    "plot_algorithms_accuracy(pems_sf_results, \"PEMS-SF\")"
   ]
  },
  {
   "cell_type": "markdown",
   "id": "d4b80ee5",
   "metadata": {},
   "source": [
    "### 4.1.2 Algorithms efficiency with respect to classes"
   ]
  },
  {
   "cell_type": "code",
   "execution_count": 160,
   "id": "ff908d1a",
   "metadata": {},
   "outputs": [],
   "source": [
    "for algorithm in pems_sf_results.keys():\n",
    "    plot_algorithm_overview(\"PEMS-SF\", algorithm, pems_sf_results[algorithm], PEMS_SF_CLASS_VALUES_MAPPER)"
   ]
  },
  {
   "cell_type": "markdown",
   "id": "acec6fe3",
   "metadata": {},
   "source": [
    "## #4.2 U Wave Gesture"
   ]
  },
  {
   "cell_type": "markdown",
   "id": "4573c2e7",
   "metadata": {},
   "source": [
    "### #4.2.1 Accuracy"
   ]
  },
  {
   "cell_type": "code",
   "execution_count": 141,
   "id": "d4f5d329",
   "metadata": {},
   "outputs": [
    {
     "data": {
      "image/png": "[encoded data removed]",
      "text/plain": [
       "<Figure size 1440x360 with 1 Axes>"
      ]
     },
     "metadata": {
      "needs_background": "light"
     },
     "output_type": "display_data"
    }
   ],
   "source": [
    "plot_algorithms_accuracy(u_wave_gesture_results, \"U Wave Gesture\")"
   ]
  },
  {
   "cell_type": "markdown",
   "id": "439135d8",
   "metadata": {},
   "source": [
    "### #4.2.2 Algorithms efficiency with respect to classes"
   ]
  },
  {
   "cell_type": "code",
   "execution_count": null,
   "id": "38fb7c0d",
   "metadata": {},
   "outputs": [],
   "source": [
    "for algorithm in u_wave_gesture_results.keys():\n",
    "    plot_algorithm_overview(\"U Wave Gesture\", algorithm, u_wave_gesture_results[algorithm], U_WAVE_GESTURE_CLASS_VALUES_MAPPER)"
   ]
  }
 ],
 "metadata": {
  "kernelspec": {
   "display_name": "Python 3 (ipykernel)",
   "language": "python",
   "name": "python3"
  },
  "language_info": {
   "codemirror_mode": {
    "name": "ipython",
    "version": 3
   },
   "file_extension": ".py",
   "mimetype": "text/x-python",
   "name": "python",
   "nbconvert_exporter": "python",
   "pygments_lexer": "ipython3",
   "version": "3.8.10"
  }
 },
 "nbformat": 4,
 "nbformat_minor": 5
}
